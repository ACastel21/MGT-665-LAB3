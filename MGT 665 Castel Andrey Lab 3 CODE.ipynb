{
 "cells": [
  {
   "cell_type": "markdown",
   "id": "57266bf8",
   "metadata": {},
   "source": [
    "# Clustering Wellness Data with PCA\n",
    "This notebook demonstrates how to use clustering techniques and PCA to find patterns in a simulated wellness dataset."
   ]
  },
  {
   "cell_type": "markdown",
   "id": "89567916",
   "metadata": {},
   "source": [
    "## Dataset Creation\n",
    "We create a synthetic dataset with 300 samples and the following features:\n",
    "- Exercise Minutes per Day\n",
    "- Healthy Meals per Day\n",
    "- Hours of Sleep\n",
    "- Stress Level\n",
    "- BMI"
   ]
  },
  {
   "cell_type": "code",
   "execution_count": null,
   "id": "f3b60bf5",
   "metadata": {},
   "outputs": [],
   "source": [
    "# Create the synthetic dataset\n",
    "import pandas as pd\n",
    "import numpy as np\n",
    "from sklearn.preprocessing import StandardScaler\n",
    "\n",
    "np.random.seed(42)\n",
    "data = pd.DataFrame({\n",
    "    'Exercise_Minutes': np.random.normal(30, 10, 300),\n",
    "    'Healthy_Meals': np.random.randint(1, 4, 300),\n",
    "    'Sleep_Hours': np.random.normal(7, 1.5, 300),\n",
    "    'Stress_Level': np.random.randint(1, 10, 300),\n",
    "    'BMI': np.random.normal(25, 4, 300)\n",
    "})\n",
    "scaler = StandardScaler()\n",
    "data_scaled = scaler.fit_transform(data)\n",
    "data.head()"
   ]
  },
  {
   "cell_type": "markdown",
   "id": "c6c9cec4",
   "metadata": {},
   "source": [
    "## Exploratory Data Analysis\n",
    "We examine feature relationships using a correlation heatmap."
   ]
  },
  {
   "cell_type": "code",
   "execution_count": null,
   "id": "3d475f5e",
   "metadata": {},
   "outputs": [],
   "source": [
    "import seaborn as sns\n",
    "import matplotlib.pyplot as plt\n",
    "\n",
    "plt.figure(figsize=(8, 6))\n",
    "sns.heatmap(data.corr(), annot=True, cmap='coolwarm')\n",
    "plt.title('Feature Correlation Heatmap')\n",
    "plt.tight_layout()\n",
    "plt.savefig('/mnt/data/heatmap.png')\n",
    "plt.show()"
   ]
  },
  {
   "cell_type": "markdown",
   "id": "648fc32e",
   "metadata": {},
   "source": [
    "## Hierarchical Clustering\n",
    "We use Ward's method and plot a dendrogram to see how data groups naturally."
   ]
  },
  {
   "cell_type": "code",
   "execution_count": null,
   "id": "6f1e92b9",
   "metadata": {},
   "outputs": [],
   "source": [
    "from scipy.cluster.hierarchy import dendrogram, linkage\n",
    "\n",
    "linkage_matrix = linkage(data_scaled, method='ward')\n",
    "plt.figure(figsize=(10, 6))\n",
    "dendrogram(linkage_matrix)\n",
    "plt.title('Dendrogram - Hierarchical Clustering')\n",
    "plt.tight_layout()\n",
    "plt.savefig('/mnt/data/dendrogram.png')\n",
    "plt.show()"
   ]
  },
  {
   "cell_type": "markdown",
   "id": "62bf33d0",
   "metadata": {},
   "source": [
    "## Dimensionality Reduction (PCA)\n",
    "PCA helps us reduce the data to 2 components that explain most of the variance."
   ]
  },
  {
   "cell_type": "code",
   "execution_count": null,
   "id": "aaff2fff",
   "metadata": {},
   "outputs": [],
   "source": [
    "from sklearn.decomposition import PCA\n",
    "\n",
    "pca = PCA(n_components=2)\n",
    "pca_data = pca.fit_transform(data_scaled)\n",
    "print('Explained variance by 2 components:', pca.explained_variance_ratio_.sum())"
   ]
  },
  {
   "cell_type": "markdown",
   "id": "2aa09c93",
   "metadata": {},
   "source": [
    "## K-Means Clustering\n",
    "We test K values from 2 to 6 and evaluate using silhouette scores to find the best cluster count."
   ]
  },
  {
   "cell_type": "code",
   "execution_count": null,
   "id": "1cbd65ee",
   "metadata": {},
   "outputs": [],
   "source": [
    "from sklearn.cluster import KMeans\n",
    "from sklearn.metrics import silhouette_score\n",
    "\n",
    "k_range = range(2, 7)\n",
    "scores = [silhouette_score(data_scaled, KMeans(n_clusters=k, n_init=10).fit_predict(data_scaled)) for k in k_range]\n",
    "\n",
    "plt.plot(list(k_range), scores, marker='o')\n",
    "plt.title('Silhouette Scores for K-Means Clustering')\n",
    "plt.xlabel('Number of Clusters (k)')\n",
    "plt.ylabel('Silhouette Score')\n",
    "plt.savefig('/mnt/data/silhouette_scores.png')\n",
    "plt.show()"
   ]
  },
  {
   "cell_type": "code",
   "execution_count": null,
   "id": "da4ae12e",
   "metadata": {},
   "outputs": [],
   "source": [
    "kmeans = KMeans(n_clusters=5, n_init=10)\n",
    "clusters = kmeans.fit_predict(pca_data)\n",
    "\n",
    "plt.scatter(pca_data[:, 0], pca_data[:, 1], c=clusters, cmap='viridis')\n",
    "plt.title('PCA Plot with K-Means Clusters')\n",
    "plt.savefig('/mnt/data/pca_clusters.png')\n",
    "plt.show()"
   ]
  },
  {
   "cell_type": "markdown",
   "id": "d580f0c7",
   "metadata": {},
   "source": [
    "## Conclusion\n",
    "We found three wellness groups using clustering. PCA helped simplify the data and slightly improved clustering results.\n",
    "These methods could help healthcare organizations find trends and tailor wellness plans."
   ]
  }
 ],
 "metadata": {},
 "nbformat": 4,
 "nbformat_minor": 5
}
