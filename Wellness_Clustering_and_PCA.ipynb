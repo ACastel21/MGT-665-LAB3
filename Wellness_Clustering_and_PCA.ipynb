{
 "cells": [
  {
   "cell_type": "markdown",
   "id": "99e34a4d",
   "metadata": {},
   "source": [
    "# Clustering and Dimensionality Reduction for Patient Wellness Profiles"
   ]
  },
  {
   "cell_type": "markdown",
   "id": "0d41a7fe",
   "metadata": {},
   "source": [
    "\n",
    "In this notebook, we analyze a simulated dataset containing various health and wellness indicators \n",
    "to segment patients into meaningful groups using clustering techniques. We also apply dimensionality \n",
    "reduction using Principal Component Analysis (PCA) to evaluate its impact on clustering effectiveness.\n"
   ]
  },
  {
   "cell_type": "code",
   "execution_count": null,
   "id": "62fe4a61",
   "metadata": {},
   "outputs": [],
   "source": [
    "import pandas as pd\n",
    "import numpy as np\n",
    "import matplotlib.pyplot as plt\n",
    "import seaborn as sns\n",
    "from sklearn.cluster import KMeans\n",
    "from sklearn.decomposition import PCA\n",
    "from sklearn.preprocessing import StandardScaler\n",
    "from sklearn.metrics import silhouette_score\n",
    "import plotly.express as px"
   ]
  },
  {
   "cell_type": "markdown",
   "id": "d7bbaf44",
   "metadata": {},
   "source": [
    "## Simulated Dataset Creation"
   ]
  },
  {
   "cell_type": "code",
   "execution_count": null,
   "id": "e4a44739",
   "metadata": {},
   "outputs": [],
   "source": [
    "# Simulate wellness dataset\n",
    "np.random.seed(42)\n",
    "n_samples = 300\n",
    "data = {\n",
    "    'exercise_minutes_per_day': np.random.normal(30, 10, n_samples),\n",
    "    'healthy_meals_per_day': np.random.randint(1, 4, n_samples),\n",
    "    'hours_sleep': np.random.normal(7, 1.5, n_samples),\n",
    "    'stress_level': np.random.randint(1, 10, n_samples),\n",
    "    'BMI': np.random.normal(25, 4, n_samples)\n",
    "}\n",
    "df = pd.DataFrame(data)\n",
    "df.head()"
   ]
  },
  {
   "cell_type": "markdown",
   "id": "ff0a7802",
   "metadata": {},
   "source": [
    "## Exploratory Data Analysis"
   ]
  },
  {
   "cell_type": "code",
   "execution_count": null,
   "id": "f8361fb5",
   "metadata": {},
   "outputs": [],
   "source": [
    "# Summary statistics and pairplot\n",
    "display(df.describe())\n",
    "sns.pairplot(df)\n",
    "plt.suptitle(\"Pairplot of Wellness Features\", y=1.02)\n",
    "plt.show()"
   ]
  },
  {
   "cell_type": "markdown",
   "id": "07698a4a",
   "metadata": {},
   "source": [
    "## Data Preprocessing"
   ]
  },
  {
   "cell_type": "code",
   "execution_count": null,
   "id": "77c2d16e",
   "metadata": {},
   "outputs": [],
   "source": [
    "scaler = StandardScaler()\n",
    "scaled_data = scaler.fit_transform(df)"
   ]
  },
  {
   "cell_type": "markdown",
   "id": "5e6ddeff",
   "metadata": {},
   "source": [
    "## K-Means Clustering (Before PCA)"
   ]
  },
  {
   "cell_type": "code",
   "execution_count": null,
   "id": "2b869c18",
   "metadata": {},
   "outputs": [],
   "source": [
    "sil_scores = []\n",
    "k_range = range(2, 7)\n",
    "for k in k_range:\n",
    "    kmeans = KMeans(n_clusters=k, random_state=42)\n",
    "    labels = kmeans.fit_predict(scaled_data)\n",
    "    sil_scores.append(silhouette_score(scaled_data, labels))\n",
    "\n",
    "# Plot silhouette scores\n",
    "plt.plot(k_range, sil_scores, marker='o')\n",
    "plt.title('Silhouette Scores for k-means (Before PCA)')\n",
    "plt.xlabel('Number of Clusters')\n",
    "plt.ylabel('Silhouette Score')\n",
    "plt.grid(True)\n",
    "plt.show()"
   ]
  },
  {
   "cell_type": "markdown",
   "id": "4b402a8c",
   "metadata": {},
   "source": [
    "## Principal Component Analysis (PCA)"
   ]
  },
  {
   "cell_type": "code",
   "execution_count": null,
   "id": "9fd43a5e",
   "metadata": {},
   "outputs": [],
   "source": [
    "pca = PCA(n_components=2)\n",
    "reduced_data = pca.fit_transform(scaled_data)\n",
    "\n",
    "# Plot PCA components\n",
    "plt.figure(figsize=(8,6))\n",
    "plt.scatter(reduced_data[:, 0], reduced_data[:, 1], alpha=0.6)\n",
    "plt.title(\"PCA - 2 Principal Components\")\n",
    "plt.xlabel(\"PC1\")\n",
    "plt.ylabel(\"PC2\")\n",
    "plt.grid(True)\n",
    "plt.show()"
   ]
  },
  {
   "cell_type": "markdown",
   "id": "28bc6ab3",
   "metadata": {},
   "source": [
    "## K-Means Clustering (After PCA)"
   ]
  },
  {
   "cell_type": "code",
   "execution_count": null,
   "id": "d4fca4ff",
   "metadata": {},
   "outputs": [],
   "source": [
    "sil_scores_pca = []\n",
    "for k in k_range:\n",
    "    kmeans = KMeans(n_clusters=k, random_state=42)\n",
    "    labels_pca = kmeans.fit_predict(reduced_data)\n",
    "    sil_scores_pca.append(silhouette_score(reduced_data, labels_pca))\n",
    "\n",
    "# Plot silhouette scores after PCA\n",
    "plt.plot(k_range, sil_scores_pca, marker='o', color='green')\n",
    "plt.title('Silhouette Scores for k-means (After PCA)')\n",
    "plt.xlabel('Number of Clusters')\n",
    "plt.ylabel('Silhouette Score')\n",
    "plt.grid(True)\n",
    "plt.show()"
   ]
  },
  {
   "cell_type": "markdown",
   "id": "42654604",
   "metadata": {},
   "source": [
    "## Final Observations and Summary"
   ]
  },
  {
   "cell_type": "markdown",
   "id": "72edfc57",
   "metadata": {},
   "source": [
    "\n",
    "- PCA helped reduce dimensionality and offered clearer cluster separation in 2D.\n",
    "- Clustering revealed distinct wellness profiles, though some overlap remained.\n",
    "- Silhouette scores slightly improved post-PCA, suggesting more compact clusters.\n",
    "- This method can support targeted wellness interventions based on patient similarity.\n"
   ]
  }
 ],
 "metadata": {},
 "nbformat": 4,
 "nbformat_minor": 5
}
